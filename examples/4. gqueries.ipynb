{
 "cells": [
  {
   "cell_type": "markdown",
   "id": "4b13d394-1dc9-458b-b355-4547b5993df1",
   "metadata": {},
   "source": [
    "#### Sending Graph Queries"
   ]
  },
  {
   "cell_type": "code",
   "execution_count": null,
   "id": "1daf24ff-3474-4856-85bf-cc2fb1f3addc",
   "metadata": {},
   "outputs": [],
   "source": []
  }
 ],
 "metadata": {
  "kernelspec": {
   "display_name": "Python 3 (ipykernel)",
   "language": "python",
   "name": "python3"
  },
  "language_info": {
   "codemirror_mode": {
    "name": "ipython",
    "version": 3
   },
   "file_extension": ".py",
   "mimetype": "text/x-python",
   "name": "python",
   "nbconvert_exporter": "python",
   "pygments_lexer": "ipython3",
   "version": "3.9.5"
  }
 },
 "nbformat": 4,
 "nbformat_minor": 5
}
