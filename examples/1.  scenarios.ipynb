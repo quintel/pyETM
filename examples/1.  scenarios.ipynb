{
 "cells": [
  {
   "cell_type": "markdown",
   "metadata": {},
   "source": [
    "### First Use Examples\n",
    "The ETMClient is the link between the ETM API and Python. In order to interact with a scenario, the ETMClient first needs to connect to a scenario in the ETM. The scenario to which the client is connected is referenced to with a scenario_id. There are several ways to connect to a scenario, you can create a new scenario, you can create a copy of existing scenario's or you can connect to an existing scenario. First time users probably want to create an entire new scenario or a scenario that is based on a predefined template."
   ]
  },
  {
   "cell_type": "code",
   "execution_count": 1,
   "metadata": {},
   "outputs": [
    {
     "data": {
      "text/plain": [
       "<pyETM.client.Client at 0x1ba5bad3700>"
      ]
     },
     "execution_count": 1,
     "metadata": {},
     "output_type": "execute_result"
    }
   ],
   "source": [
    "from pyETM import Client\n",
    "\n",
    "# initiate an empty client to establish a connection with the ETM\n",
    "client = Client(scenario_id=None, beta_engine=False, ipython=False, reset=False, proxy=None)\n",
    "\n",
    "client"
   ]
  },
  {
   "cell_type": "markdown",
   "metadata": {},
   "source": [
    "### Scenario Templates\n",
    "can be used to make new scenario, scenario_id can be used to reconnect after having done some work."
   ]
  },
  {
   "cell_type": "code",
   "execution_count": null,
   "metadata": {},
   "outputs": [],
   "source": [
    "# fetch the scenario templates from existing scenarios.\n",
    "client.get_scenario_templates()"
   ]
  },
  {
   "cell_type": "code",
   "execution_count": null,
   "metadata": {},
   "outputs": [],
   "source": [
    "# create a copy of the template scenario\n",
    "client.create_scenario_copy('36950')\n",
    "client.scenario_id"
   ]
  },
  {
   "cell_type": "markdown",
   "metadata": {},
   "source": [
    "### Custom Curves\n",
    "It is also possible to upload custom curves for a select number of parameters."
   ]
  },
  {
   "cell_type": "code",
   "execution_count": null,
   "metadata": {},
   "outputs": [],
   "source": [
    "# show if there are custom curves attached in the scenario\n",
    "client.ccurves.attached"
   ]
  },
  {
   "cell_type": "markdown",
   "metadata": {},
   "source": [
    "Set some scenarios by passing random data for the interconnectors"
   ]
  },
  {
   "cell_type": "code",
   "execution_count": null,
   "metadata": {},
   "outputs": [],
   "source": [
    "import numpy as np\n",
    "import pandas as pd\n",
    "\n",
    "# create prices for interconnectors\n",
    "con1 = pd.Series(np.random.rand(8760)*3, name='interconnector_1_price')\n",
    "con2 = pd.Series(np.random.rand(8760)*49, name='interconnector_2_price')\n",
    "con3 = pd.Series(np.random.rand(8760)*5, name='interconnector_3_price')\n",
    "\n",
    "# create capacity factors for wind\n",
    "offshore = pd.Series(np.random.rand(8760), name='weather/wind_offshore_baseline')\n",
    "onshore = pd.Series(np.random.rand(8760), name='weather/wind_inland_baseline')\n",
    "\n",
    "# merge series in dataframe\n",
    "ccurves = pd.concat([con1, con2, offshore, onshore], axis=1)\n",
    "\n",
    "# show random data\n",
    "ccurves.head()"
   ]
  },
  {
   "cell_type": "code",
   "execution_count": null,
   "metadata": {},
   "outputs": [],
   "source": [
    "# set data as ccurves profiles and specify dataset\n",
    "client.upload_ccurves(ccurves, name='DataFrame upload')\n",
    "\n",
    "# this also works for individual series\n",
    "client.upload_ccurve(con3, name='Series upload')\n",
    "\n",
    "# show uploaded ccurves\n",
    "curves = client.ccurves.overview\n",
    "curves = curves[curves.attached == True]\n",
    "\n",
    "# show ccurves\n",
    "curves"
   ]
  },
  {
   "cell_type": "code",
   "execution_count": null,
   "metadata": {},
   "outputs": [],
   "source": []
  }
 ],
 "metadata": {
  "kernelspec": {
   "display_name": "Python 3 (ipykernel)",
   "language": "python",
   "name": "python3"
  },
  "language_info": {
   "codemirror_mode": {
    "name": "ipython",
    "version": 3
   },
   "file_extension": ".py",
   "mimetype": "text/x-python",
   "name": "python",
   "nbconvert_exporter": "python",
   "pygments_lexer": "ipython3",
   "version": "3.9.5"
  }
 },
 "nbformat": 4,
 "nbformat_minor": 4
}
