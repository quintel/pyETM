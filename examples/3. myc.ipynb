{
 "cells": [
  {
   "cell_type": "markdown",
   "metadata": {},
   "source": [
    "**Multi-year charts**\n",
    "\n",
    "The MYC function within the ETM allows users to view and edit multiple scenarios at once. \n",
    "This feature is useful to compare different scenarios or to built a transition path that \n",
    "contains scenarios with different end years, see https://myc.energytransitionmodel.com/\n"
   ]
  },
  {
   "cell_type": "markdown",
   "metadata": {},
   "source": [
    "**Model Initialisation**\n",
    "\n",
    "Initialize the model with the `model.from_excel()` function by reading from an [Excel-based](https://github.com/robcalon/pyetm/tree/main/examples/data) configuration."
   ]
  },
  {
   "cell_type": "code",
   "execution_count": null,
   "metadata": {},
   "outputs": [],
   "source": [
    "from pyetm.myc import MYCClient\n",
    "\n",
    "# initiate model with information\n",
    "filepath = 'data/myc_model_configuration.xlsx'\n",
    "model = MYCClient.from_excel(filepath)\n",
    "\n",
    "# show model\n",
    "model.session_ids"
   ]
  },
  {
   "cell_type": "markdown",
   "metadata": {},
   "source": [
    "**Accessing scenario data**\n",
    "\n",
    "Multiple ETM endpoints can be accessed with an `MYCClient` to make it easier to collect the relevant information from multiple scenarios at once."
   ]
  },
  {
   "cell_type": "code",
   "execution_count": null,
   "metadata": {},
   "outputs": [],
   "source": [
    "# get scenario input parameters\n",
    "inputs = model.get_input_parameters()\n",
    "inputs.head()"
   ]
  },
  {
   "cell_type": "code",
   "execution_count": null,
   "metadata": {},
   "outputs": [],
   "source": [
    "gqueries = model.get_output_values()\n",
    "gqueries.head()"
   ]
  },
  {
   "cell_type": "code",
   "execution_count": null,
   "metadata": {},
   "outputs": [],
   "source": [
    "ecurves = model.get_hourly_carrier_curves(carrier='electricity')\n",
    "ecurves.head()"
   ]
  },
  {
   "cell_type": "markdown",
   "metadata": {},
   "source": [
    "**Export Scenario to Excel**\n",
    "\n",
    "Scenario parameters, gqueries, hourly curves and MYC URLs can be exported to an Excel \n",
    "file with the `model.to_excel()` function. See the docstring for more information on \n",
    "additional options to specify the inclusion of hourly curves and other options."
   ]
  },
  {
   "cell_type": "code",
   "execution_count": null,
   "metadata": {},
   "outputs": [],
   "source": [
    "from pathlib import Path\n",
    "# export parameters and gqueries to excel\n",
    "\n",
    "filepath = 'results/example.xlsx'\n",
    "Path(filepath).parent.mkdir(exist_ok=True)\n",
    "\n",
    "model.to_excel(filepath)"
   ]
  },
  {
   "cell_type": "markdown",
   "metadata": {},
   "source": [
    "**Upload Scenario Parameters from Excel**\n",
    "\n",
    "You can upload settings from an Excel to the scenarios as well, you just\n",
    "need to load the parameter settings that you'd like to use. If you're excel\n",
    "file does not contain the 'UNIT'-column, `index_col=[0, 1]` should be replaced\n",
    "by `index_col=0`. See https://github.com/robcalon/pyETM/tree/main/examples/data\n",
    "for templates to upload parameters from a file."
   ]
  },
  {
   "cell_type": "code",
   "execution_count": null,
   "metadata": {},
   "outputs": [],
   "source": [
    "import pandas as pd\n",
    "\n",
    "# read the excel file\n",
    "filepath = 'data/myc_parameter_upload.xlsx'\n",
    "frame = pd.read_excel(filepath, index_col=0, header=[0, 1, 2, 3])\n",
    "\n",
    "# set input parameters\n",
    "model.set_input_parameters(frame)"
   ]
  },
  {
   "cell_type": "code",
   "execution_count": null,
   "metadata": {},
   "outputs": [],
   "source": []
  }
 ],
 "metadata": {
  "kernelspec": {
   "display_name": "Python 3.9.5 64-bit",
   "language": "python",
   "name": "python3"
  },
  "language_info": {
   "codemirror_mode": {
    "name": "ipython",
    "version": 3
   },
   "file_extension": ".py",
   "mimetype": "text/x-python",
   "name": "python",
   "nbconvert_exporter": "python",
   "pygments_lexer": "ipython3",
   "version": "3.9.6"
  },
  "orig_nbformat": 4,
  "vscode": {
   "interpreter": {
    "hash": "949777d72b0d2535278d3dc13498b2535136f6dfe0678499012e853ee9abcab1"
   }
  }
 },
 "nbformat": 4,
 "nbformat_minor": 2
}
