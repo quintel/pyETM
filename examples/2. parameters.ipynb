{
 "cells": [
  {
   "cell_type": "markdown",
   "id": "cb7a33b5-5f40-4744-be25-eed9c941ef12",
   "metadata": {},
   "source": [
    "### Scenario properties\n",
    "After a connection with a scenario is established, you can request specific properties of that given scenario. The more basic properties that can be accessed for example are the title, start year, end year and area code of the scenario. \n",
    "\n"
   ]
  },
  {
   "cell_type": "code",
   "execution_count": 4,
   "id": "d966d450-1d2c-4652-94fc-925fde8a327b",
   "metadata": {},
   "outputs": [
    {
     "data": {
      "text/plain": [
       "'API'"
      ]
     },
     "execution_count": 4,
     "metadata": {},
     "output_type": "execute_result"
    }
   ],
   "source": [
    "# show title of the scenario\n",
    "client.title"
   ]
  },
  {
   "cell_type": "code",
   "execution_count": 5,
   "id": "c79f7206-44c4-40ee-a479-0cbdea8a5f95",
   "metadata": {},
   "outputs": [
    {
     "data": {
      "text/plain": [
       "'Example scenario'"
      ]
     },
     "execution_count": 5,
     "metadata": {},
     "output_type": "execute_result"
    }
   ],
   "source": [
    "# set title of the scenario\n",
    "client.title = 'Example scenario'\n",
    "\n",
    "# show title of the scenario\n",
    "client.title"
   ]
  },
  {
   "cell_type": "markdown",
   "id": "cd814c1f-4507-4bd9-8864-7f8134c8dfee",
   "metadata": {},
   "source": [
    "More relevant properties of the scenario are the user configured parameters of the scenarios. You can access and change them via the user values property of the scenario."
   ]
  },
  {
   "cell_type": "code",
   "execution_count": 6,
   "id": "3ab65fc8-206c-480f-a45a-828ab2ba0c5c",
   "metadata": {},
   "outputs": [
    {
     "data": {
      "text/html": [
       "<div>\n",
       "<style scoped>\n",
       "    .dataframe tbody tr th:only-of-type {\n",
       "        vertical-align: middle;\n",
       "    }\n",
       "\n",
       "    .dataframe tbody tr th {\n",
       "        vertical-align: top;\n",
       "    }\n",
       "\n",
       "    .dataframe thead th {\n",
       "        text-align: right;\n",
       "    }\n",
       "</style>\n",
       "<table border=\"1\" class=\"dataframe\">\n",
       "  <thead>\n",
       "    <tr style=\"text-align: right;\">\n",
       "      <th></th>\n",
       "      <th>min</th>\n",
       "      <th>max</th>\n",
       "      <th>default</th>\n",
       "      <th>share_group</th>\n",
       "      <th>disabled</th>\n",
       "      <th>user</th>\n",
       "      <th>cache_error</th>\n",
       "      <th>permitted_values</th>\n",
       "    </tr>\n",
       "  </thead>\n",
       "  <tbody>\n",
       "    <tr>\n",
       "      <th>capacity_of_energy_power_nuclear_gen2_uranium_oxide</th>\n",
       "      <td>0.0</td>\n",
       "      <td>14790.873522</td>\n",
       "      <td>509.625</td>\n",
       "      <td>NaN</td>\n",
       "      <td>NaN</td>\n",
       "      <td>NaN</td>\n",
       "      <td>NaN</td>\n",
       "      <td>NaN</td>\n",
       "    </tr>\n",
       "    <tr>\n",
       "      <th>capacity_of_energy_chp_supercritical_waste_mix</th>\n",
       "      <td>0.0</td>\n",
       "      <td>23665.397635</td>\n",
       "      <td>726.2</td>\n",
       "      <td>NaN</td>\n",
       "      <td>NaN</td>\n",
       "      <td>NaN</td>\n",
       "      <td>NaN</td>\n",
       "      <td>NaN</td>\n",
       "    </tr>\n",
       "    <tr>\n",
       "      <th>capacity_of_energy_power_supercritical_waste_mix</th>\n",
       "      <td>0.0</td>\n",
       "      <td>28860.241018</td>\n",
       "      <td>0.0</td>\n",
       "      <td>NaN</td>\n",
       "      <td>NaN</td>\n",
       "      <td>NaN</td>\n",
       "      <td>NaN</td>\n",
       "      <td>NaN</td>\n",
       "    </tr>\n",
       "    <tr>\n",
       "      <th>capacity_of_energy_power_wind_turbine_coastal</th>\n",
       "      <td>0.0</td>\n",
       "      <td>6765.000000</td>\n",
       "      <td>950.411765</td>\n",
       "      <td>NaN</td>\n",
       "      <td>NaN</td>\n",
       "      <td>NaN</td>\n",
       "      <td>NaN</td>\n",
       "      <td>NaN</td>\n",
       "    </tr>\n",
       "    <tr>\n",
       "      <th>capacity_of_energy_power_wind_turbine_offshore</th>\n",
       "      <td>0.0</td>\n",
       "      <td>297534.000000</td>\n",
       "      <td>323.571429</td>\n",
       "      <td>NaN</td>\n",
       "      <td>NaN</td>\n",
       "      <td>NaN</td>\n",
       "      <td>NaN</td>\n",
       "      <td>NaN</td>\n",
       "    </tr>\n",
       "  </tbody>\n",
       "</table>\n",
       "</div>"
      ],
      "text/plain": [
       "                                                    min            max  \\\n",
       "capacity_of_energy_power_nuclear_gen2_uranium_o...  0.0   14790.873522   \n",
       "capacity_of_energy_chp_supercritical_waste_mix      0.0   23665.397635   \n",
       "capacity_of_energy_power_supercritical_waste_mix    0.0   28860.241018   \n",
       "capacity_of_energy_power_wind_turbine_coastal       0.0    6765.000000   \n",
       "capacity_of_energy_power_wind_turbine_offshore      0.0  297534.000000   \n",
       "\n",
       "                                                       default share_group  \\\n",
       "capacity_of_energy_power_nuclear_gen2_uranium_o...     509.625         NaN   \n",
       "capacity_of_energy_chp_supercritical_waste_mix           726.2         NaN   \n",
       "capacity_of_energy_power_supercritical_waste_mix           0.0         NaN   \n",
       "capacity_of_energy_power_wind_turbine_coastal       950.411765         NaN   \n",
       "capacity_of_energy_power_wind_turbine_offshore      323.571429         NaN   \n",
       "\n",
       "                                                   disabled user cache_error  \\\n",
       "capacity_of_energy_power_nuclear_gen2_uranium_o...      NaN  NaN         NaN   \n",
       "capacity_of_energy_chp_supercritical_waste_mix          NaN  NaN         NaN   \n",
       "capacity_of_energy_power_supercritical_waste_mix        NaN  NaN         NaN   \n",
       "capacity_of_energy_power_wind_turbine_coastal           NaN  NaN         NaN   \n",
       "capacity_of_energy_power_wind_turbine_offshore          NaN  NaN         NaN   \n",
       "\n",
       "                                                   permitted_values  \n",
       "capacity_of_energy_power_nuclear_gen2_uranium_o...              NaN  \n",
       "capacity_of_energy_chp_supercritical_waste_mix                  NaN  \n",
       "capacity_of_energy_power_supercritical_waste_mix                NaN  \n",
       "capacity_of_energy_power_wind_turbine_coastal                   NaN  \n",
       "capacity_of_energy_power_wind_turbine_offshore                  NaN  "
      ]
     },
     "execution_count": 6,
     "metadata": {},
     "output_type": "execute_result"
    }
   ],
   "source": [
    "# frst check which parameters can be set in the scenario\n",
    "parameters = client.user_parameters\n",
    "\n",
    "# show several parameters\n",
    "parameters.iloc[41:46]"
   ]
  },
  {
   "cell_type": "code",
   "execution_count": 7,
   "id": "8b6d0516-9468-4aec-b98e-e391a435bde4",
   "metadata": {},
   "outputs": [
    {
     "data": {
      "text/plain": [
       "Series([], Name: user, dtype: object)"
      ]
     },
     "execution_count": 7,
     "metadata": {},
     "output_type": "execute_result"
    }
   ],
   "source": [
    "# show parameters that are set by the user\n",
    "user_values = client.user_values\n",
    "\n",
    "# none have been set yet\n",
    "user_values"
   ]
  },
  {
   "cell_type": "code",
   "execution_count": 8,
   "id": "f716b286-119d-499b-a216-13fce0830ab3",
   "metadata": {},
   "outputs": [
    {
     "data": {
      "text/plain": [
       "capacity_of_energy_power_nuclear_gen2_uranium_oxide     750.0\n",
       "capacity_of_energy_power_wind_turbine_coastal          1500.0\n",
       "capacity_of_energy_power_wind_turbine_offshore          500.0\n",
       "Name: user, dtype: object"
      ]
     },
     "execution_count": 8,
     "metadata": {},
     "output_type": "execute_result"
    }
   ],
   "source": [
    "# let's the capacities of several plants\n",
    "# we can specify these changes in a dictonairy or series object.\n",
    "user_values = {\n",
    "    'capacity_of_energy_power_nuclear_gen2_uranium_oxide' : 750,\n",
    "    'capacity_of_energy_power_wind_turbine_coastal' : 1500,\n",
    "    'capacity_of_energy_power_wind_turbine_offshore' : 500\n",
    "}\n",
    "\n",
    "# apply the changes to the scenario\n",
    "client.user_values = user_values\n",
    "\n",
    "# check the results\n",
    "client.user_values"
   ]
  },
  {
   "cell_type": "markdown",
   "id": "fd1958e0-5139-4c4b-b428-06d978538b49",
   "metadata": {},
   "source": [
    "As the user_values can be passed in different formats, it is possible to load a json as a dictonairy or a csv-file as series or dataframe with a 'user' column. When parameters are passed with a value outside the domain that is specified, the client will raise an error. "
   ]
  },
  {
   "cell_type": "code",
   "execution_count": null,
   "id": "8ef4bcb9-fa4c-4cd2-bc88-f2be7ad40d6e",
   "metadata": {},
   "outputs": [],
   "source": []
  }
 ],
 "metadata": {
  "kernelspec": {
   "display_name": "Python 3 (ipykernel)",
   "language": "python",
   "name": "python3"
  },
  "language_info": {
   "codemirror_mode": {
    "name": "ipython",
    "version": 3
   },
   "file_extension": ".py",
   "mimetype": "text/x-python",
   "name": "python",
   "nbconvert_exporter": "python",
   "pygments_lexer": "ipython3",
   "version": "3.9.5"
  }
 },
 "nbformat": 4,
 "nbformat_minor": 5
}
