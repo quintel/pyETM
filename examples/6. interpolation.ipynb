{
 "cells": [
  {
   "cell_type": "markdown",
   "id": "c75b310b-8732-4338-8150-da468131df87",
   "metadata": {},
   "source": [
    "#### Interpolate a Scenario"
   ]
  },
  {
   "cell_type": "code",
   "execution_count": 2,
   "id": "1d80b31b-0c18-4698-886a-1149c5e7649b",
   "metadata": {},
   "outputs": [
    {
     "data": {
      "text/plain": [
       "'856103'"
      ]
     },
     "execution_count": 2,
     "metadata": {},
     "output_type": "execute_result"
    }
   ],
   "source": [
    "from pyETM import Client\n",
    "\n",
    "# use existing scenario\n",
    "scenario_id = '856103'\n",
    "client = Client(scenario_id=scenario_id, ipython=True, reset=True)\n",
    "\n",
    "# show id\n",
    "client.scenario_id"
   ]
  },
  {
   "cell_type": "code",
   "execution_count": null,
   "id": "41063e6c-97c4-42ec-aa12-7301c1e51997",
   "metadata": {},
   "outputs": [],
   "source": []
  }
 ],
 "metadata": {
  "kernelspec": {
   "display_name": "Python 3 (ipykernel)",
   "language": "python",
   "name": "python3"
  },
  "language_info": {
   "codemirror_mode": {
    "name": "ipython",
    "version": 3
   },
   "file_extension": ".py",
   "mimetype": "text/x-python",
   "name": "python",
   "nbconvert_exporter": "python",
   "pygments_lexer": "ipython3",
   "version": "3.9.5"
  }
 },
 "nbformat": 4,
 "nbformat_minor": 5
}
