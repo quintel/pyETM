{
 "cells": [
  {
   "cell_type": "markdown",
   "metadata": {},
   "source": [
    "**Mapping**\n",
    "\n",
    "ETM offers quite some granularity in the returned hourly carrier curves which\n",
    "depending on the usecase might not always be desirable. The default keys can\n",
    "simply be replaced and aggregated to an user-defined naming convention."
   ]
  },
  {
   "cell_type": "code",
   "execution_count": null,
   "metadata": {},
   "outputs": [],
   "source": [
    "from pyetm import Client\n",
    "import pandas as pd\n",
    "\n",
    "# get electricity curves\n",
    "client = Client(1008593)\n",
    "ecurves = client.get_hourly_electricity_curves()\n",
    "\n",
    "# show head\n",
    "ecurves.head()"
   ]
  },
  {
   "cell_type": "code",
   "execution_count": null,
   "metadata": {},
   "outputs": [],
   "source": [
    "# load example mappping\n",
    "mapping = pd.read_csv('data/hourly_electricity_curve_mapping.csv', index_col=0)\n",
    "mapping.head()"
   ]
  },
  {
   "cell_type": "code",
   "execution_count": null,
   "metadata": {},
   "outputs": [],
   "source": [
    "from pyetm.utils import categorise_curves\n",
    "\n",
    "# categorize electricity curves\n",
    "mapped = categorise_curves(ecurves, mapping)\n",
    "mapped.head()"
   ]
  },
  {
   "cell_type": "markdown",
   "metadata": {},
   "source": [
    "Alternativly the mapping can also be applied directly from the client."
   ]
  },
  {
   "cell_type": "code",
   "execution_count": null,
   "metadata": {},
   "outputs": [],
   "source": [
    "mapped = client.categorise_curves('electricity', mapping)\n",
    "mapped.head()"
   ]
  },
  {
   "cell_type": "markdown",
   "metadata": {},
   "source": [
    "**Regionalisation**\n",
    "\n",
    "Curves can also be regionionalized by distributing them over different regions/nodes."
   ]
  },
  {
   "cell_type": "code",
   "execution_count": null,
   "metadata": {},
   "outputs": [],
   "source": [
    "import numpy as np\n",
    "\n",
    "# this example uses a randomly generated regionalisation\n",
    "# the regionalization is compatible with the 'mapped' electricity curves.\n",
    "values = np.random.dirichlet(np.ones(10), size=len(mapped.columns))\n",
    "reg = pd.DataFrame(values.T, columns=mapped.columns)\n",
    "\n",
    "reg.round(4).head()"
   ]
  },
  {
   "cell_type": "code",
   "execution_count": null,
   "metadata": {},
   "outputs": [],
   "source": [
    "from pyetm.utils import regionalise_curves\n",
    "\n",
    "# regionalize the mapped curves\n",
    "# the regionalisation returns the residual profile\n",
    "regionalised = regionalise_curves(mapped, reg=reg)\n",
    "regionalised.round(4).head()"
   ]
  },
  {
   "cell_type": "markdown",
   "metadata": {},
   "source": [
    "The `regionalise_curves` function returns the residual profiles per region/node.\n",
    "This is mainly due to performance and memory constraints that make it difficult \n",
    "to hold the mapped curves for each region/node in memory. When needed, the \n",
    "`regionalise_node` function makes it possible to return the detailed profiles\n",
    "for the selected node."
   ]
  },
  {
   "cell_type": "code",
   "execution_count": null,
   "metadata": {},
   "outputs": [],
   "source": [
    "from pyetm.utils import regionalise_node\n",
    "\n",
    "# return detailed curves for a specific node\n",
    "ncurves = regionalise_node(mapped, reg=reg, node=0)\n",
    "ncurves.round(4).head()"
   ]
  },
  {
   "cell_type": "code",
   "execution_count": null,
   "metadata": {},
   "outputs": [],
   "source": []
  }
 ],
 "metadata": {
  "kernelspec": {
   "display_name": "pyetm",
   "language": "python",
   "name": "python3"
  },
  "language_info": {
   "codemirror_mode": {
    "name": "ipython",
    "version": 3
   },
   "file_extension": ".py",
   "mimetype": "text/x-python",
   "name": "python",
   "nbconvert_exporter": "python",
   "pygments_lexer": "ipython3",
   "version": "3.9.18"
  }
 },
 "nbformat": 4,
 "nbformat_minor": 2
}
