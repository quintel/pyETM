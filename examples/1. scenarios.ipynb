{
 "cells": [
  {
   "cell_type": "markdown",
   "metadata": {},
   "source": [
    "**First Use Examples**\n",
    "\n",
    "In order to interact with a scenario, a Client first needs to initialized by\n",
    "pointing to a specific scenario in the ETM. There are several options to establish\n",
    "a connection, e.g. by creating a new scenario, creating a copy of an existing scenario \n",
    "or reconnecting to a previously created scenario.\n",
    "\n",
    "Note that the parameter `scenario_id` refers to which is also known as an `api_session_id`. \n",
    "This id does not directly refers to a `saved_scenario_id` of scenarios stored under \n",
    "an ETM user account."
   ]
  },
  {
   "cell_type": "code",
   "execution_count": null,
   "metadata": {},
   "outputs": [],
   "source": [
    "from pyetm import Client\n",
    "\n",
    "# create a new scenario from scratch\n",
    "client = Client.from_scenario_parameters(end_year=2050, area_code=\"nl2019\")\n",
    "\n",
    "# print scenario_id\n",
    "scenario_id = client.scenario_id\n",
    "scenario_id"
   ]
  },
  {
   "cell_type": "code",
   "execution_count": null,
   "metadata": {},
   "outputs": [],
   "source": [
    "from pyetm import Client\n",
    "\n",
    "# you can reconnect to your scenario with the provided scenario_id\n",
    "client = Client(scenario_id)\n",
    "client.scenario_id"
   ]
  },
  {
   "cell_type": "markdown",
   "metadata": {},
   "source": [
    "**Scenario properties**\n",
    "\n",
    "After a connection with a scenario is established, you can request specific \n",
    "properties of that given scenario. The more basic properties that can be accessed \n",
    "for example are the start year, area code, or creation data. Some properties can \n",
    "also be changed, for example if the scenario is read only and thus cannot be modified \n",
    "via the API."
   ]
  },
  {
   "cell_type": "code",
   "execution_count": null,
   "metadata": {},
   "outputs": [],
   "source": [
    "client.created_at"
   ]
  },
  {
   "cell_type": "code",
   "execution_count": null,
   "metadata": {},
   "outputs": [],
   "source": [
    "# frst check which parameters can be set in the scenario\n",
    "parameters = client.input_parameters\n",
    "parameters.iloc[41:46]"
   ]
  },
  {
   "cell_type": "code",
   "execution_count": null,
   "metadata": {},
   "outputs": [],
   "source": [
    "# show parameters that are set by the user\n",
    "client.get_input_parameters(user_only=True)"
   ]
  },
  {
   "cell_type": "code",
   "execution_count": null,
   "metadata": {},
   "outputs": [],
   "source": [
    "# let's the capacities of several plants\n",
    "# we can specify these changes in a dictonairy or series object.\n",
    "user_values = {\n",
    "    'capacity_of_energy_power_nuclear_gen2_uranium_oxide' : 1750,\n",
    "    'capacity_of_energy_power_wind_turbine_coastal' : 50,\n",
    "    'capacity_of_energy_power_wind_turbine_offshore' : 25000\n",
    "}\n",
    "\n",
    "# apply the changes to the scenario\n",
    "client.input_parameters = user_values\n",
    "client.get_input_parameters(user_only=True)"
   ]
  },
  {
   "cell_type": "markdown",
   "metadata": {},
   "source": [
    "**Result Curves**\n",
    "\n",
    "Simular to the scenario properties, the results of a scenario can also be accessed \n",
    "as properties of the scenario. When scenario parameters are changed, all result \n",
    "curves are automatically reset and are requested again upon accessing the client \n",
    "property. This means that the first time that a result curve is requested some time \n",
    "will pass before the result is loaded, as the ETM is evaluating the scenario in the \n",
    "background."
   ]
  },
  {
   "cell_type": "code",
   "execution_count": null,
   "metadata": {},
   "outputs": [],
   "source": [
    "# request hourly electricity curves\n",
    "ecurves = client.hourly_electricity_curves\n",
    "ecurves.head()"
   ]
  },
  {
   "cell_type": "markdown",
   "metadata": {},
   "source": [
    "**Custom Curves**\n",
    "\n",
    "It is also possible to upload custom curves for a select number of parameters."
   ]
  },
  {
   "cell_type": "code",
   "execution_count": null,
   "metadata": {},
   "outputs": [],
   "source": [
    "# show if there are custom curves attached in the scenario\n",
    "client.get_custom_curve_settings()"
   ]
  },
  {
   "cell_type": "markdown",
   "metadata": {},
   "source": [
    "Set some scenarios by passing random data for the interconnectors"
   ]
  },
  {
   "cell_type": "code",
   "execution_count": null,
   "metadata": {},
   "outputs": [],
   "source": [
    "import numpy as np\n",
    "import pandas as pd\n",
    "\n",
    "# create prices for interconnectors\n",
    "con1 = pd.Series(np.random.rand(8760)*3, name='interconnector_1_price')\n",
    "con2 = pd.Series(np.random.rand(8760)*49, name='interconnector_2_price')\n",
    "con3 = pd.Series(np.random.rand(8760)*5, name='interconnector_3_price')\n",
    "\n",
    "# create capacity factors for wind\n",
    "offshore = pd.Series(np.random.rand(8760), name='weather/wind_offshore_baseline')\n",
    "onshore = pd.Series(np.random.rand(8760), name='weather/wind_inland_baseline')\n",
    "\n",
    "# merge series in dataframe\n",
    "ccurves = pd.concat([con1, con2, offshore, onshore], axis=1)\n",
    "\n",
    "# show random data\n",
    "ccurves.head()"
   ]
  },
  {
   "cell_type": "code",
   "execution_count": null,
   "metadata": {},
   "outputs": [],
   "source": [
    "# set data as ccurves profiles\n",
    "client.set_custom_curves(ccurves)"
   ]
  },
  {
   "cell_type": "code",
   "execution_count": null,
   "metadata": {},
   "outputs": [],
   "source": [
    "# add additional custom curve\n",
    "client.upload_custom_curves(con3)\n",
    "client.custom_curves.head()"
   ]
  },
  {
   "cell_type": "code",
   "execution_count": null,
   "metadata": {},
   "outputs": [],
   "source": [
    "# show parameters that have been overwritten by the custom curves\n",
    "client.get_custom_curve_user_value_overrides()"
   ]
  },
  {
   "cell_type": "code",
   "execution_count": null,
   "metadata": {},
   "outputs": [],
   "source": [
    "# show details about the uploaded ucstom curves\n",
    "client.get_custom_curve_settings()"
   ]
  },
  {
   "cell_type": "code",
   "execution_count": null,
   "metadata": {},
   "outputs": [],
   "source": []
  }
 ],
 "metadata": {
  "kernelspec": {
   "display_name": ".mlflow",
   "language": "python",
   "name": "python3"
  },
  "language_info": {
   "codemirror_mode": {
    "name": "ipython",
    "version": 3
   },
   "file_extension": ".py",
   "mimetype": "text/x-python",
   "name": "python",
   "nbconvert_exporter": "python",
   "pygments_lexer": "ipython3",
   "version": "3.9.6"
  },
  "vscode": {
   "interpreter": {
    "hash": "445a75b16a226d2a4068218b10a969930ff3ba893192665fd83936da1f29d0a6"
   }
  }
 },
 "nbformat": 4,
 "nbformat_minor": 4
}
