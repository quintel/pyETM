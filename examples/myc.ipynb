{
 "cells": [
  {
   "cell_type": "markdown",
   "metadata": {},
   "source": [
    "##### Model Initialisation"
   ]
  },
  {
   "cell_type": "code",
   "execution_count": 1,
   "metadata": {},
   "outputs": [],
   "source": [
    "from pyetm.myc import MYCClient\n",
    "\n",
    "# initiate model with information\n",
    "filepath = 'data/myc.xlsx'\n",
    "model = MYCClient.from_excel(filepath)"
   ]
  },
  {
   "cell_type": "markdown",
   "metadata": {},
   "source": [
    "##### Export Scenario in Excel\n",
    "From version 0.8.0 onwards, the '`model.to_excel()`' method supports an option to include exports of the hourly carrier curves. This feature is enabled by passing the argument '`include_carrier_curves=True`'. See the docstring for more information on additional options to specify the included carriers and an optional mapping that is applied to the results."
   ]
  },
  {
   "cell_type": "code",
   "execution_count": null,
   "metadata": {},
   "outputs": [],
   "source": [
    "# export parameters and gqueries to excel\n",
    "model.to_excel('example.xlsx')"
   ]
  },
  {
   "cell_type": "markdown",
   "metadata": {},
   "source": [
    "##### Upload Scenario Parameters from Excel"
   ]
  },
  {
   "cell_type": "code",
   "execution_count": null,
   "metadata": {},
   "outputs": [],
   "source": [
    "import pandas as pd\n",
    "\n",
    "\"\"\"See https://github.com/robcalon/pyETM/tree/main/examples/templates\n",
    "for templates to upload parameters from a file\"\"\"\n",
    "\n",
    "# read the excel file\n",
    "filepath = 'PATH/TO/EXCEL'\n",
    "frame = pd.read_excel(filepath, index_col=0, headers=[0, 1, 2, 3])\n",
    "\n",
    "# set input parameters\n",
    "model.set_input_parameters(frame)"
   ]
  },
  {
   "cell_type": "code",
   "execution_count": null,
   "metadata": {},
   "outputs": [],
   "source": []
  }
 ],
 "metadata": {
  "kernelspec": {
   "display_name": "Python 3.9.5 64-bit",
   "language": "python",
   "name": "python3"
  },
  "language_info": {
   "codemirror_mode": {
    "name": "ipython",
    "version": 3
   },
   "file_extension": ".py",
   "mimetype": "text/x-python",
   "name": "python",
   "nbconvert_exporter": "python",
   "pygments_lexer": "ipython3",
   "version": "3.9.6"
  },
  "orig_nbformat": 4,
  "vscode": {
   "interpreter": {
    "hash": "949777d72b0d2535278d3dc13498b2535136f6dfe0678499012e853ee9abcab1"
   }
  }
 },
 "nbformat": 4,
 "nbformat_minor": 2
}
